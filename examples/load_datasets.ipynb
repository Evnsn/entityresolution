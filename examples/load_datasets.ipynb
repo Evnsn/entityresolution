{
 "cells": [
  {
   "cell_type": "code",
   "execution_count": 1,
   "metadata": {},
   "outputs": [],
   "source": [
    "import sys\n",
    "sys.path.insert(1, '../')\n",
    "from entityresolution.datasets.fetch_data import fetch_DBLP_ACM, fetch_DBLP_SCHOLAR, fetch_NORTH_CAROLINA_VOTERS_10M"
   ]
  },
  {
   "cell_type": "code",
   "execution_count": 2,
   "metadata": {},
   "outputs": [
    {
     "name": "stdout",
     "output_type": "stream",
     "text": [
      "['10Party-ocp20/ncvr_numrec_1000000_modrec_2_ocp_20_myp_7_nump_10.csv', '10Party-ocp20/ncvr_numrec_1000000_modrec_2_ocp_20_myp_4_nump_10.csv', '10Party-ocp20/ncvr_numrec_1000000_modrec_2_ocp_20_myp_1_nump_10.csv', '10Party-ocp20', '10Party-ocp20/ncvr_numrec_1000000_modrec_2_ocp_20_myp_9_nump_10.csv', '10Party-ocp20/ncvr_numrec_1000000_modrec_2_ocp_20_myp_6_nump_10.csv', '10Party-ocp20/ncvr_numrec_1000000_modrec_2_ocp_20_myp_3_nump_10.csv', '10Party-ocp20/ncvr_numrec_1000000_modrec_2_ocp_20_myp_0_nump_10.csv', '10Party-ocp20/ncvr_numrec_1000000_modrec_2_ocp_20_myp_8_nump_10.csv', '10Party-ocp20/ncvr_numrec_1000000_modrec_2_ocp_20_myp_5_nump_10.csv', '10Party-ocp20/ncvr_numrec_1000000_modrec_2_ocp_20_myp_2_nump_10.csv']\n",
      "['10Party-ocp20/ncvr_numrec_1000000_modrec_2_ocp_20_myp_7_nump_10.csv', '10Party-ocp20/ncvr_numrec_1000000_modrec_2_ocp_20_myp_4_nump_10.csv', '10Party-ocp20/ncvr_numrec_1000000_modrec_2_ocp_20_myp_1_nump_10.csv', '10Party-ocp20/ncvr_numrec_1000000_modrec_2_ocp_20_myp_9_nump_10.csv', '10Party-ocp20/ncvr_numrec_1000000_modrec_2_ocp_20_myp_6_nump_10.csv', '10Party-ocp20/ncvr_numrec_1000000_modrec_2_ocp_20_myp_3_nump_10.csv', '10Party-ocp20/ncvr_numrec_1000000_modrec_2_ocp_20_myp_0_nump_10.csv', '10Party-ocp20/ncvr_numrec_1000000_modrec_2_ocp_20_myp_8_nump_10.csv', '10Party-ocp20/ncvr_numrec_1000000_modrec_2_ocp_20_myp_5_nump_10.csv', '10Party-ocp20/ncvr_numrec_1000000_modrec_2_ocp_20_myp_2_nump_10.csv']\n",
      "0 10Party-ocp20/ncvr_numrec_1000000_modrec_2_ocp_20_myp_7_nump_10.csv\n"
     ]
    },
    {
     "name": "stderr",
     "output_type": "stream",
     "text": [
      "c:\\Users\\atvi\\Repositories\\Privat\\entityresolution\\examples\\..\\entityresolution\\datasets\\_utils.py:57: DtypeWarning: Columns (4) have mixed types. Specify dtype option on import or set low_memory=False.\n",
      "  df = pd.read_csv(TEMP_PATH + \"/\" + file, encoding=encoding)\n"
     ]
    },
    {
     "name": "stdout",
     "output_type": "stream",
     "text": [
      "1 10Party-ocp20/ncvr_numrec_1000000_modrec_2_ocp_20_myp_4_nump_10.csv\n"
     ]
    },
    {
     "name": "stderr",
     "output_type": "stream",
     "text": [
      "c:\\Users\\atvi\\Repositories\\Privat\\entityresolution\\examples\\..\\entityresolution\\datasets\\_utils.py:57: DtypeWarning: Columns (4) have mixed types. Specify dtype option on import or set low_memory=False.\n",
      "  df = pd.read_csv(TEMP_PATH + \"/\" + file, encoding=encoding)\n"
     ]
    },
    {
     "name": "stdout",
     "output_type": "stream",
     "text": [
      "2 10Party-ocp20/ncvr_numrec_1000000_modrec_2_ocp_20_myp_1_nump_10.csv\n"
     ]
    },
    {
     "name": "stderr",
     "output_type": "stream",
     "text": [
      "c:\\Users\\atvi\\Repositories\\Privat\\entityresolution\\examples\\..\\entityresolution\\datasets\\_utils.py:57: DtypeWarning: Columns (4) have mixed types. Specify dtype option on import or set low_memory=False.\n",
      "  df = pd.read_csv(TEMP_PATH + \"/\" + file, encoding=encoding)\n"
     ]
    },
    {
     "name": "stdout",
     "output_type": "stream",
     "text": [
      "3 10Party-ocp20/ncvr_numrec_1000000_modrec_2_ocp_20_myp_9_nump_10.csv\n"
     ]
    },
    {
     "name": "stderr",
     "output_type": "stream",
     "text": [
      "c:\\Users\\atvi\\Repositories\\Privat\\entityresolution\\examples\\..\\entityresolution\\datasets\\_utils.py:57: DtypeWarning: Columns (4) have mixed types. Specify dtype option on import or set low_memory=False.\n",
      "  df = pd.read_csv(TEMP_PATH + \"/\" + file, encoding=encoding)\n"
     ]
    },
    {
     "name": "stdout",
     "output_type": "stream",
     "text": [
      "4 10Party-ocp20/ncvr_numrec_1000000_modrec_2_ocp_20_myp_6_nump_10.csv\n"
     ]
    },
    {
     "name": "stderr",
     "output_type": "stream",
     "text": [
      "c:\\Users\\atvi\\Repositories\\Privat\\entityresolution\\examples\\..\\entityresolution\\datasets\\_utils.py:57: DtypeWarning: Columns (4) have mixed types. Specify dtype option on import or set low_memory=False.\n",
      "  df = pd.read_csv(TEMP_PATH + \"/\" + file, encoding=encoding)\n"
     ]
    },
    {
     "name": "stdout",
     "output_type": "stream",
     "text": [
      "5 10Party-ocp20/ncvr_numrec_1000000_modrec_2_ocp_20_myp_3_nump_10.csv\n"
     ]
    },
    {
     "name": "stderr",
     "output_type": "stream",
     "text": [
      "c:\\Users\\atvi\\Repositories\\Privat\\entityresolution\\examples\\..\\entityresolution\\datasets\\_utils.py:57: DtypeWarning: Columns (4) have mixed types. Specify dtype option on import or set low_memory=False.\n",
      "  df = pd.read_csv(TEMP_PATH + \"/\" + file, encoding=encoding)\n"
     ]
    },
    {
     "name": "stdout",
     "output_type": "stream",
     "text": [
      "6 10Party-ocp20/ncvr_numrec_1000000_modrec_2_ocp_20_myp_0_nump_10.csv\n"
     ]
    },
    {
     "name": "stderr",
     "output_type": "stream",
     "text": [
      "c:\\Users\\atvi\\Repositories\\Privat\\entityresolution\\examples\\..\\entityresolution\\datasets\\_utils.py:57: DtypeWarning: Columns (4) have mixed types. Specify dtype option on import or set low_memory=False.\n",
      "  df = pd.read_csv(TEMP_PATH + \"/\" + file, encoding=encoding)\n"
     ]
    },
    {
     "name": "stdout",
     "output_type": "stream",
     "text": [
      "7 10Party-ocp20/ncvr_numrec_1000000_modrec_2_ocp_20_myp_8_nump_10.csv\n"
     ]
    },
    {
     "name": "stderr",
     "output_type": "stream",
     "text": [
      "c:\\Users\\atvi\\Repositories\\Privat\\entityresolution\\examples\\..\\entityresolution\\datasets\\_utils.py:57: DtypeWarning: Columns (4) have mixed types. Specify dtype option on import or set low_memory=False.\n",
      "  df = pd.read_csv(TEMP_PATH + \"/\" + file, encoding=encoding)\n"
     ]
    },
    {
     "name": "stdout",
     "output_type": "stream",
     "text": [
      "8 10Party-ocp20/ncvr_numrec_1000000_modrec_2_ocp_20_myp_5_nump_10.csv\n"
     ]
    },
    {
     "name": "stderr",
     "output_type": "stream",
     "text": [
      "c:\\Users\\atvi\\Repositories\\Privat\\entityresolution\\examples\\..\\entityresolution\\datasets\\_utils.py:57: DtypeWarning: Columns (4) have mixed types. Specify dtype option on import or set low_memory=False.\n",
      "  df = pd.read_csv(TEMP_PATH + \"/\" + file, encoding=encoding)\n"
     ]
    },
    {
     "name": "stdout",
     "output_type": "stream",
     "text": [
      "9 10Party-ocp20/ncvr_numrec_1000000_modrec_2_ocp_20_myp_2_nump_10.csv\n"
     ]
    },
    {
     "name": "stderr",
     "output_type": "stream",
     "text": [
      "c:\\Users\\atvi\\Repositories\\Privat\\entityresolution\\examples\\..\\entityresolution\\datasets\\_utils.py:57: DtypeWarning: Columns (4) have mixed types. Specify dtype option on import or set low_memory=False.\n",
      "  df = pd.read_csv(TEMP_PATH + \"/\" + file, encoding=encoding)\n"
     ]
    }
   ],
   "source": [
    "# fetch_DBLP_ACM()\n",
    "list_df = fetch_NORTH_CAROLINA_VOTERS_10M()"
   ]
  },
  {
   "cell_type": "code",
   "execution_count": 4,
   "metadata": {},
   "outputs": [
    {
     "data": {
      "text/plain": [
       "(          recid   givenname   surname         suburb postcode\n",
       " 0       7926438     melissa  lockbart      charlotte    28246\n",
       " 1       1907459     timothy    coocke  winston salem    27|03\n",
       " 2        783632  cassanclra     moorw      charlotte    28209\n",
       " 3       7294911      joshua    grsham    kenansville    2834q\n",
       " 4       3808873       laura   merril|    mhapel hill    27517\n",
       " ...         ...         ...       ...            ...      ...\n",
       " 999995  3681403    randolph      gray       franklin  28734.0\n",
       " 999996   397804     carolyn     smith     siler city  27344.0\n",
       " 999997  4173577      ashley    mccord    franklinton  27525.0\n",
       " 999998  1392771      ronnie  cummings       pembroke  28372.0\n",
       " 999999  5956632       jason    bagley        raleigh  27616.0\n",
       " \n",
       " [1000000 rows x 5 columns],\n",
       "           recid  givenname    surname         suburb postcode\n",
       " 0        980378      annie   johnston      warrentin    27589\n",
       " 1       3309562  catheeine    sackoey     wilmington    28409\n",
       " 2       4909826     dagvid  bittingmr      charlotte    28262\n",
       " 3       6317995    wallace    pittmap      gastaonia    28056\n",
       " 4       1907459    timoghy      cooke  winston salem    27l03\n",
       " ...         ...        ...        ...            ...      ...\n",
       " 999995  3681403   randolph       gray       franklin  28734.0\n",
       " 999996   292980     fannie     walker      louisburg  27549.0\n",
       " 999997  4767867    charles     barber         newton  28658.0\n",
       " 999998   412753      ethel       hamm       elm city  27822.0\n",
       " 999999  6041228       dana       rice       fletcher  28732.0\n",
       " \n",
       " [1000000 rows x 5 columns],\n",
       "           recid  givenname   surname          suburb postcode\n",
       " 0       4778680       lora   beitman     gipsonville    27249\n",
       " 1       5082427      peter    bohlwn    chapel ehill    27516\n",
       " 2       1907459    t:mothy      cook   winston salem    27103\n",
       " 3       7042895    wendell    miller     kenansvulle    2834g\n",
       " 4       7553148     joseph   bridges         raleigb    276o4\n",
       " ...         ...        ...       ...             ...      ...\n",
       " 999995  5781566    rebecca     allen  willow springs  27592.0\n",
       " 999996  6830222     thomas  thompson       pink hill  28572.0\n",
       " 999997  5562037   kimberly    tilley          durham  27705.0\n",
       " 999998  1634810  elizabeth     mills      greensboro  27408.0\n",
       " 999999  3668440    michael      boyd          supply  28462.0\n",
       " \n",
       " [1000000 rows x 5 columns],\n",
       "           recid  givenname    surname       suburb postcode\n",
       " 0       5692768    jeffrey       dahl    fairmontu    28040\n",
       " 1        726566      james   thompson     st pauld    2838q\n",
       " 2       7042895    wendeol     miller  kenansville    2834g\n",
       " 3        783632  cajsandra      moore    charlotte    2820g\n",
       " 4       3808873     laurad    merrill  chapel hill    27516\n",
       " ...         ...        ...        ...          ...      ...\n",
       " 999995  4894209    antonio     butler       waxhaw  28173.0\n",
       " 999996  7967934     robert    severin      raleigh  27612.0\n",
       " 999997  6483474      peggy  honeycutt       angier  27501.0\n",
       " 999998  8141440    vanessa      berry       manteo  27954.0\n",
       " 999999  7887153     harold     austin   new london  28127.0\n",
       " \n",
       " [1000000 rows x 5 columns],\n",
       "           recid givenname   surname         suburb postcode\n",
       " 0       5082427      pete    boglen    chapel hill    27516\n",
       " 1       1907459   tipothy     cooke  winston salem    271o3\n",
       " 2       5522775      lybn  kitchens     greensboro    27q08\n",
       " 3       3808873      lora   mrerill    chapel hill    27517\n",
       " 4       7714945      isis     jonse     greensboro    274o5\n",
       " ...         ...       ...       ...            ...      ...\n",
       " 999995  1890704    horace     swain     wilmington  28405.0\n",
       " 999996  7242972    helena     smith      asheville  28804.0\n",
       " 999997  5717518    shelby     brown        cameron  28326.0\n",
       " 999998  6586215     lewis    sutton       aberdeen  28315.0\n",
       " 999999  7881508     diane   rozakis        raleigh  27614.0\n",
       " \n",
       " [1000000 rows x 5 columns],\n",
       "           recid  givenname    surname       suburb postcode\n",
       " 0       3309562  catherine   sacklewy   wilmington    284o9\n",
       " 1       6317995    wallace    pittman    gasttonia    28016\n",
       " 2       7042895    wendell     mjller  kenanzville    28349\n",
       " 3       7294911     joshua     kraham  kenansv:lle    28349\n",
       " 4        142683     ronnie     ballar   burlinkton    27215\n",
       " ...         ...        ...        ...          ...      ...\n",
       " 999995  4301300       john    jackson   hope mills  28348.0\n",
       " 999996  6614741   virginia      angle    charlotte  28205.0\n",
       " 999997  1917280     martha  duckworth        boone  28607.0\n",
       " 999998    16145     robert  castelloe      windsor  27983.0\n",
       " 999999  3668440    michael       boyd       supply  28462.0\n",
       " \n",
       " [1000000 rows x 5 columns],\n",
       "           recid    givenname     surname        suburb postcode\n",
       " 0        980378        annie     johnson     warrenron    2758g\n",
       " 1       1504019         erib        pugh      asheboro    27202\n",
       " 2       6110624       lauren      toledo   chapeo hill    2751q\n",
       " 3       1591182    keorgetta    atkin5on     goldsboro    27530\n",
       " 4       5522775         lvnn    kitchenz    greensboro    27408\n",
       " ...         ...          ...         ...           ...      ...\n",
       " 999995  6830222       thomas    thompson     pink hill  28572.0\n",
       " 999996  3825429     laramzie      burton     goldsboro  27530.0\n",
       " 999997  4448521  christopher       scott  fayetteville  28304.0\n",
       " 999998  4666377      barbara  valladares       advance  27006.0\n",
       " 999999  8199703       sheena      hilton          cary  27511.0\n",
       " \n",
       " [1000000 rows x 5 columns],\n",
       "           recid    givenname    surname        suburb postcode\n",
       " 0       5692768      jeffrey       dahk      fairm9nt    28340\n",
       " 1       3309562     caterine    sackley    wilmington    284o9\n",
       " 2       1907459      timothy     cool<e  winsto salem    27103\n",
       " 3       8203044      mahmood   aldahabi        lenoor    2864s\n",
       " 4        522735   jakqueline   laceqell    riegelwood    28456\n",
       " ...         ...          ...        ...           ...      ...\n",
       " 999995  5930738  christopher    roesner      franklin  28734.0\n",
       " 999996    16145       robert  castelloe       windsor  27983.0\n",
       " 999997  3173995       ashley      moore    greensboro  27410.0\n",
       " 999998  4901392       carmen  hernandez    high point  27265.0\n",
       " 999999  8141440      vanessa      berry        manteo  27954.0\n",
       " \n",
       " [1000000 rows x 5 columns],\n",
       "           recid  givenname     surname       suburb postcode\n",
       " 0        980378      annie     johmson    warremton    27589\n",
       " 1       2352248     dorthy      yeager    jamestown    2728z\n",
       " 2       4909826      david  bittiriger    charlotte    2826z\n",
       " 3       7294911     joshua      graham  kenansfille    28329\n",
       " 4       3808873     lacura     merrilk  chapel hill    27517\n",
       " ...         ...        ...         ...          ...      ...\n",
       " 999995  1587311       todd       bowen   lewisville  27023.0\n",
       " 999996  6134419  katherine   mcdougall        sylva  28779.0\n",
       " 999997  5533167      linda      german      belmont  28012.0\n",
       " 999998  7391501      wendy    philipps         cary  27513.0\n",
       " 999999  1934431    william       adams   banner elk  28604.0\n",
       " \n",
       " [1000000 rows x 5 columns],\n",
       "           recid  givenname    surname         suburb postcode\n",
       " 0       2448951     tommie   crawford       gastojia    28354\n",
       " 1       6317995    wallace    pittmab       gastlnia    28056\n",
       " 2       1591182  georgetta   atkinson      goldsb0ro    27510\n",
       " 3       5778019    onajsis   roseboro         shelby    28156\n",
       " 4       1482472       dors     wooten    rocky mount    278o4\n",
       " ...         ...        ...        ...            ...      ...\n",
       " 999995    16145     robert  castelloe        windsor  27983.0\n",
       " 999996  1294251        ann     henson      middlesex  27557.0\n",
       " 999997  6367900   frederic     fordin        raleigh  27617.0\n",
       " 999998  7232987      larry      sykes        raleigh  27614.0\n",
       " 999999  2549924     philip   broyhill  millers creek  28651.0\n",
       " \n",
       " [1000000 rows x 5 columns])"
      ]
     },
     "execution_count": 4,
     "metadata": {},
     "output_type": "execute_result"
    }
   ],
   "source": [
    "list_df"
   ]
  },
  {
   "cell_type": "code",
   "execution_count": null,
   "metadata": {},
   "outputs": [],
   "source": []
  }
 ],
 "metadata": {
  "kernelspec": {
   "display_name": "entityresolution",
   "language": "python",
   "name": "python3"
  },
  "language_info": {
   "codemirror_mode": {
    "name": "ipython",
    "version": 3
   },
   "file_extension": ".py",
   "mimetype": "text/x-python",
   "name": "python",
   "nbconvert_exporter": "python",
   "pygments_lexer": "ipython3",
   "version": "3.8.16"
  },
  "orig_nbformat": 4
 },
 "nbformat": 4,
 "nbformat_minor": 2
}

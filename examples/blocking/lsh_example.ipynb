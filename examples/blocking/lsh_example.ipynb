{
 "cells": [
  {
   "attachments": {},
   "cell_type": "markdown",
   "metadata": {},
   "source": []
  },
  {
   "cell_type": "code",
   "execution_count": 1,
   "metadata": {},
   "outputs": [],
   "source": [
    "import pandas as pd\n",
    "import numpy as np\n",
    "\n",
    "import sys\n",
    "sys.path.insert(1, '../../')\n",
    "\n",
    "from entityresolution.datasets import load_restaurants\n",
    "from entityresolution.indexing.block.building import MinHashLSHBlocking"
   ]
  },
  {
   "attachments": {},
   "cell_type": "markdown",
   "metadata": {},
   "source": []
  },
  {
   "cell_type": "code",
   "execution_count": 2,
   "metadata": {},
   "outputs": [
    {
     "data": {
      "text/html": [
       "<div>\n",
       "<style scoped>\n",
       "    .dataframe tbody tr th:only-of-type {\n",
       "        vertical-align: middle;\n",
       "    }\n",
       "\n",
       "    .dataframe tbody tr th {\n",
       "        vertical-align: top;\n",
       "    }\n",
       "\n",
       "    .dataframe thead th {\n",
       "        text-align: right;\n",
       "    }\n",
       "</style>\n",
       "<table border=\"1\" class=\"dataframe\">\n",
       "  <thead>\n",
       "    <tr style=\"text-align: right;\">\n",
       "      <th></th>\n",
       "      <th>name</th>\n",
       "      <th>address</th>\n",
       "      <th>city</th>\n",
       "      <th>phone</th>\n",
       "      <th>category</th>\n",
       "      <th>cluster</th>\n",
       "    </tr>\n",
       "  </thead>\n",
       "  <tbody>\n",
       "    <tr>\n",
       "      <th>0</th>\n",
       "      <td>arnie morton's of chicago</td>\n",
       "      <td>435 s. la cienega blv.</td>\n",
       "      <td>los angeles</td>\n",
       "      <td>310/246-1501</td>\n",
       "      <td>american</td>\n",
       "      <td>0</td>\n",
       "    </tr>\n",
       "    <tr>\n",
       "      <th>1</th>\n",
       "      <td>arnie morton's of chicago</td>\n",
       "      <td>435 s. la cienega blvd.</td>\n",
       "      <td>los angeles</td>\n",
       "      <td>310-246-1501</td>\n",
       "      <td>steakhouses</td>\n",
       "      <td>0</td>\n",
       "    </tr>\n",
       "    <tr>\n",
       "      <th>2</th>\n",
       "      <td>art's delicatessen</td>\n",
       "      <td>12224 ventura blvd.</td>\n",
       "      <td>studio city</td>\n",
       "      <td>818/762-1221</td>\n",
       "      <td>american</td>\n",
       "      <td>1</td>\n",
       "    </tr>\n",
       "    <tr>\n",
       "      <th>3</th>\n",
       "      <td>art's deli</td>\n",
       "      <td>12224 ventura blvd.</td>\n",
       "      <td>studio city</td>\n",
       "      <td>818-762-1221</td>\n",
       "      <td>delis</td>\n",
       "      <td>1</td>\n",
       "    </tr>\n",
       "    <tr>\n",
       "      <th>4</th>\n",
       "      <td>hotel bel-air</td>\n",
       "      <td>701 stone canyon rd.</td>\n",
       "      <td>bel air</td>\n",
       "      <td>310/472-1211</td>\n",
       "      <td>californian</td>\n",
       "      <td>2</td>\n",
       "    </tr>\n",
       "  </tbody>\n",
       "</table>\n",
       "</div>"
      ],
      "text/plain": [
       "                        name                  address         city  \\\n",
       "0  arnie morton's of chicago   435 s. la cienega blv.  los angeles   \n",
       "1  arnie morton's of chicago  435 s. la cienega blvd.  los angeles   \n",
       "2         art's delicatessen      12224 ventura blvd.  studio city   \n",
       "3                 art's deli      12224 ventura blvd.  studio city   \n",
       "4              hotel bel-air     701 stone canyon rd.      bel air   \n",
       "\n",
       "          phone     category  cluster  \n",
       "0  310/246-1501     american        0  \n",
       "1  310-246-1501  steakhouses        0  \n",
       "2  818/762-1221     american        1  \n",
       "3  818-762-1221        delis        1  \n",
       "4  310/472-1211  californian        2  "
      ]
     },
     "execution_count": 2,
     "metadata": {},
     "output_type": "execute_result"
    }
   ],
   "source": [
    "df = load_restaurants()\n",
    "df.head()"
   ]
  },
  {
   "cell_type": "code",
   "execution_count": 8,
   "metadata": {},
   "outputs": [],
   "source": [
    "lsh = MinHashLSHBlocking(num_hashes=20)"
   ]
  },
  {
   "cell_type": "code",
   "execution_count": 9,
   "metadata": {},
   "outputs": [
    {
     "name": "stdout",
     "output_type": "stream",
     "text": [
      "511\n"
     ]
    },
    {
     "data": {
      "text/plain": [
       "(864, 20)"
      ]
     },
     "execution_count": 9,
     "metadata": {},
     "output_type": "execute_result"
    }
   ],
   "source": [
    "attribute = \"name\"\n",
    "arr = lsh.build(df, attribute)\n",
    "arr.shape"
   ]
  },
  {
   "cell_type": "code",
   "execution_count": 5,
   "metadata": {},
   "outputs": [],
   "source": [
    "# arr = arr.astype('float')\n",
    "# arr[arr == 0] = 'nan' # or use np.nan\n",
    "# np.sort(arr, axis=0)"
   ]
  },
  {
   "cell_type": "code",
   "execution_count": 6,
   "metadata": {},
   "outputs": [
    {
     "data": {
      "text/plain": [
       "array([[ 40,  20,  72,  39],\n",
       "       [ 56,  33,  66,  26],\n",
       "       [ 45, 137,  46, 114],\n",
       "       [ 25,  56,  43,  45],\n",
       "       [ 28,  19,  27,  16],\n",
       "       [ 18, 107, 112,  54],\n",
       "       [126, 248,  51, 132],\n",
       "       [  7,  11,  37,   2],\n",
       "       [ 26,  11,   6,   8],\n",
       "       [ 21,  11,  46,  67],\n",
       "       [ 28,  13,  46,  16],\n",
       "       [  4,  17, 199,  47],\n",
       "       [ 15,  44,  41,   8],\n",
       "       [ 48,  48,  49,  47],\n",
       "       [ 28,  33,  28,   2],\n",
       "       [ 21,   7,  24,   8],\n",
       "       [ 13,  59,  41,  25],\n",
       "       [ 25,  11,  46, 114],\n",
       "       [ 56,  11,  11,  29],\n",
       "       [ 60,   2,  30,  25],\n",
       "       [ 28,  32,  46,  26],\n",
       "       [ 37,  14,  51,  26],\n",
       "       [  7,   2,  30,  47],\n",
       "       [ 16,  27,  49,  28],\n",
       "       [ 21,  27,  28,  73],\n",
       "       [ 55,  42,  35,  96],\n",
       "       [169,  60,  94,  16],\n",
       "       [117, 144,  10,  47],\n",
       "       [  9,  48,  12,  64],\n",
       "       [ 15,  36,  40,  15]])"
      ]
     },
     "execution_count": 6,
     "metadata": {},
     "output_type": "execute_result"
    }
   ],
   "source": [
    "idx=470\n",
    "arr[-30:,:]"
   ]
  },
  {
   "cell_type": "code",
   "execution_count": 7,
   "metadata": {},
   "outputs": [
    {
     "ename": "NameError",
     "evalue": "name 'df_lsh' is not defined",
     "output_type": "error",
     "traceback": [
      "\u001b[1;31m---------------------------------------------------------------------------\u001b[0m",
      "\u001b[1;31mNameError\u001b[0m                                 Traceback (most recent call last)",
      "Cell \u001b[1;32mIn[7], line 1\u001b[0m\n\u001b[1;32m----> 1\u001b[0m pd\u001b[39m.\u001b[39mDataFrame(df_lsh\u001b[39m.\u001b[39mtoarray(), columns\u001b[39m=\u001b[39mvoc)\n",
      "\u001b[1;31mNameError\u001b[0m: name 'df_lsh' is not defined"
     ]
    }
   ],
   "source": [
    "\n",
    "pd.DataFrame(df_lsh.toarray(), columns=voc)"
   ]
  },
  {
   "cell_type": "code",
   "execution_count": null,
   "metadata": {},
   "outputs": [
    {
     "ename": "AttributeError",
     "evalue": "'MinHashLSHBlocking' object has no attribute 'transform'",
     "output_type": "error",
     "traceback": [
      "\u001b[1;31m---------------------------------------------------------------------------\u001b[0m",
      "\u001b[1;31mAttributeError\u001b[0m                            Traceback (most recent call last)",
      "Cell \u001b[1;32mIn[6], line 1\u001b[0m\n\u001b[1;32m----> 1\u001b[0m lsh\u001b[39m.\u001b[39;49mtransform(df, attribute)\n",
      "\u001b[1;31mAttributeError\u001b[0m: 'MinHashLSHBlocking' object has no attribute 'transform'"
     ]
    }
   ],
   "source": [
    "lsh.transform(df, attribute)"
   ]
  },
  {
   "cell_type": "code",
   "execution_count": null,
   "metadata": {},
   "outputs": [],
   "source": []
  }
 ],
 "metadata": {
  "kernelspec": {
   "display_name": "entityresolution",
   "language": "python",
   "name": "python3"
  },
  "language_info": {
   "codemirror_mode": {
    "name": "ipython",
    "version": 3
   },
   "file_extension": ".py",
   "mimetype": "text/x-python",
   "name": "python",
   "nbconvert_exporter": "python",
   "pygments_lexer": "ipython3",
   "version": "3.8.16"
  },
  "orig_nbformat": 4
 },
 "nbformat": 4,
 "nbformat_minor": 2
}
